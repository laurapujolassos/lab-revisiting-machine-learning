{
 "cells": [
  {
   "cell_type": "markdown",
   "id": "51949064",
   "metadata": {},
   "source": [
    "# Lab | Revisiting Machine Learning Case Study"
   ]
  },
  {
   "cell_type": "code",
   "execution_count": 1,
   "id": "5268e67a",
   "metadata": {},
   "outputs": [],
   "source": [
    "import pandas as pd\n",
    "import numpy as np\n",
    "import datetime\n",
    "import warnings\n",
    "import matplotlib.pyplot as plt\n",
    "import seaborn as sns\n",
    "\n",
    "warnings.filterwarnings('ignore')"
   ]
  },
  {
   "cell_type": "code",
   "execution_count": 2,
   "id": "4862c98a",
   "metadata": {},
   "outputs": [],
   "source": [
    "data = pd.read_csv('learningSet.csv')"
   ]
  },
  {
   "cell_type": "code",
   "execution_count": 3,
   "id": "1cdab005",
   "metadata": {},
   "outputs": [],
   "source": [
    "#Check for null values in all the columns"
   ]
  },
  {
   "cell_type": "code",
   "execution_count": 4,
   "id": "4ad52ec8",
   "metadata": {},
   "outputs": [
    {
     "data": {
      "text/plain": [
       "ODATEDW       0\n",
       "OSOURCE       0\n",
       "TCODE         0\n",
       "STATE         0\n",
       "ZIP           0\n",
       "           ... \n",
       "MDMAUD_R      0\n",
       "MDMAUD_F      0\n",
       "MDMAUD_A      0\n",
       "CLUSTER2    132\n",
       "GEOCODE2    132\n",
       "Length: 481, dtype: int64"
      ]
     },
     "execution_count": 4,
     "metadata": {},
     "output_type": "execute_result"
    }
   ],
   "source": [
    "data.isna().sum() "
   ]
  },
  {
   "cell_type": "code",
   "execution_count": 23,
   "id": "4f47bbdb",
   "metadata": {},
   "outputs": [],
   "source": [
    "# Exclude the following variables by looking at the definitions. Create a new empty list called drop_list. We will append this list and then drop all the columns in this list later"
   ]
  },
  {
   "cell_type": "code",
   "execution_count": 10,
   "id": "cb8970bf",
   "metadata": {},
   "outputs": [],
   "source": [
    "drop_list = []\n",
    "drop_list.append(\"OSOURCE\")\n",
    "drop_list.append(\"ZIP CODE\")\n"
   ]
  },
  {
   "cell_type": "code",
   "execution_count": 6,
   "id": "5910e355",
   "metadata": {},
   "outputs": [],
   "source": [
    "# Identify columns that over 85% missing values"
   ]
  },
  {
   "cell_type": "code",
   "execution_count": 12,
   "id": "13745f1c",
   "metadata": {},
   "outputs": [],
   "source": [
    "nulls_percent = (data.isnull().sum() / len(data)) * 100"
   ]
  },
  {
   "cell_type": "code",
   "execution_count": 14,
   "id": "bf8d2bd3",
   "metadata": {},
   "outputs": [],
   "source": [
    "nulls_percentover85 = list(nulls_percent[nulls_percent > 85].index)"
   ]
  },
  {
   "cell_type": "code",
   "execution_count": 15,
   "id": "8c7b34ef",
   "metadata": {},
   "outputs": [
    {
     "data": {
      "text/plain": [
       "['NUMCHLD',\n",
       " 'RDATE_3',\n",
       " 'RDATE_4',\n",
       " 'RDATE_5',\n",
       " 'RDATE_6',\n",
       " 'RDATE_7',\n",
       " 'RDATE_10',\n",
       " 'RDATE_13',\n",
       " 'RDATE_15',\n",
       " 'RDATE_17',\n",
       " 'RDATE_20',\n",
       " 'RDATE_21',\n",
       " 'RDATE_23',\n",
       " 'RAMNT_3',\n",
       " 'RAMNT_4',\n",
       " 'RAMNT_5',\n",
       " 'RAMNT_6',\n",
       " 'RAMNT_7',\n",
       " 'RAMNT_10',\n",
       " 'RAMNT_13',\n",
       " 'RAMNT_15',\n",
       " 'RAMNT_17',\n",
       " 'RAMNT_20',\n",
       " 'RAMNT_21',\n",
       " 'RAMNT_23']"
      ]
     },
     "execution_count": 15,
     "metadata": {},
     "output_type": "execute_result"
    }
   ],
   "source": [
    "nulls_percentover85"
   ]
  },
  {
   "cell_type": "code",
   "execution_count": 16,
   "id": "515f3a29",
   "metadata": {},
   "outputs": [],
   "source": [
    "# Remove those columns from the dataframe"
   ]
  },
  {
   "cell_type": "code",
   "execution_count": 18,
   "id": "b34fb394",
   "metadata": {},
   "outputs": [],
   "source": [
    "data.drop(nulls_percentover85, axis=1, inplace=True)"
   ]
  },
  {
   "cell_type": "code",
   "execution_count": 19,
   "id": "b909e0a8",
   "metadata": {},
   "outputs": [],
   "source": [
    "# educe the number of categories in the column GENDER. The column should only have either \"M\" for males, \"F\" for females, and \"other\" for all the rest"
   ]
  },
  {
   "cell_type": "code",
   "execution_count": 23,
   "id": "57c113a7",
   "metadata": {},
   "outputs": [],
   "source": [
    "categorical = data.select_dtypes(object)\n",
    "numerical = data.select_dtypes(np.number)"
   ]
  },
  {
   "cell_type": "code",
   "execution_count": 24,
   "id": "50b8579f",
   "metadata": {},
   "outputs": [
    {
     "name": "stdout",
     "output_type": "stream",
     "text": [
      "F    51277\n",
      "M    39094\n",
      "      2957\n",
      "U     1715\n",
      "J      365\n",
      "C        2\n",
      "A        2\n",
      "Name: GENDER, dtype: int64\n"
     ]
    }
   ],
   "source": [
    "print(categorical['GENDER'].value_counts())\n",
    "categorical['GENDER'] = categorical['GENDER'].fillna('F')"
   ]
  },
  {
   "cell_type": "code",
   "execution_count": 28,
   "id": "15244dbb",
   "metadata": {},
   "outputs": [],
   "source": [
    "data[\"GENDER\"] = data[\"GENDER\"].apply(lambda x: x if x in [\"M\", \"F\"] else \"other\")"
   ]
  },
  {
   "cell_type": "code",
   "execution_count": 29,
   "id": "7e476cda",
   "metadata": {},
   "outputs": [
    {
     "name": "stdout",
     "output_type": "stream",
     "text": [
      "F        51277\n",
      "M        39094\n",
      "other     5041\n",
      "Name: GENDER, dtype: int64\n"
     ]
    }
   ],
   "source": [
    "print(data['GENDER'].value_counts())"
   ]
  },
  {
   "cell_type": "code",
   "execution_count": null,
   "id": "f3b3ef2a",
   "metadata": {},
   "outputs": [],
   "source": []
  }
 ],
 "metadata": {
  "kernelspec": {
   "display_name": "Python 3 (ipykernel)",
   "language": "python",
   "name": "python3"
  },
  "language_info": {
   "codemirror_mode": {
    "name": "ipython",
    "version": 3
   },
   "file_extension": ".py",
   "mimetype": "text/x-python",
   "name": "python",
   "nbconvert_exporter": "python",
   "pygments_lexer": "ipython3",
   "version": "3.9.12"
  }
 },
 "nbformat": 4,
 "nbformat_minor": 5
}
